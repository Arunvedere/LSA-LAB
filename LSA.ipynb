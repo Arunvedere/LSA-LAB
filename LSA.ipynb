{
 "cells": [
  {
   "cell_type": "code",
   "execution_count": 1,
   "metadata": {
    "collapsed": true
   },
   "outputs": [],
   "source": [
    "from sklearn.datasets import fetch_20newsgroups\n",
    "categories = ['rec.sport.baseball']\n",
    "dataset = fetch_20newsgroups(subset='all',shuffle=True, random_state=42, categories=categories)\n",
    "corpus = dataset.data"
   ]
  },
  {
   "cell_type": "code",
   "execution_count": 2,
   "metadata": {
    "collapsed": true
   },
   "outputs": [],
   "source": [
    "from bs4 import BeautifulSoup\n",
    "import nltk\n",
    "from nltk.corpus import stopwords\n",
    "from sklearn.feature_extraction.text import TfidfVectorizer\n",
    "from sklearn.decomposition import TruncatedSVD"
   ]
  },
  {
   "cell_type": "code",
   "execution_count": 3,
   "metadata": {
    "collapsed": false
   },
   "outputs": [
    {
     "name": "stdout",
     "output_type": "stream",
     "text": [
      "[nltk_data] Downloading package stopwords to\n",
      "[nltk_data]     C:\\Users\\sreeja\\AppData\\Roaming\\nltk_data...\n",
      "[nltk_data]   Package stopwords is already up-to-date!\n"
     ]
    },
    {
     "data": {
      "text/plain": [
       "True"
      ]
     },
     "execution_count": 3,
     "metadata": {},
     "output_type": "execute_result"
    }
   ],
   "source": [
    "nltk.download('stopwords')"
   ]
  },
  {
   "cell_type": "code",
   "execution_count": 4,
   "metadata": {
    "collapsed": true
   },
   "outputs": [],
   "source": [
    "stopset = set(stopwords.words('english'))\n",
    "stopset.update(['lt','p','/p','br','amp','quot','field','font','normal','span','0px','rgb','style','51', \n",
    "                'spacing','text','helvetica','size','family', 'space', 'arial', 'height', 'indent', 'letter'\n",
    "                'line','none','sans','serif','transform','line','variant','weight','times', 'new','strong', 'video', 'title'\n",
    "                'white','word','letter', 'roman','0pt','16','color','12','14','21', 'neue', 'apple', 'class','re', 'cs', '00 00', 'com', '00 00 000', 'aix', '00 00 00', '00', 'ca', '00 00 01', 've', '000', '000 000', '000 000 000','001', '100', '10', '01', '000th', '001211 18457', '001211', '18457', '002 755', '002', '755', '002251w', '002'   ])"
   ]
  },
  {
   "cell_type": "code",
   "execution_count": 5,
   "metadata": {
    "collapsed": false
   },
   "outputs": [
    {
     "data": {
      "text/plain": [
       "u\"From: writingctr@leo.bsuvc.bsu.edu\\nSubject: Re: CUB fever.\\nOrganization: Ball State University, Muncie, In - Univ. Computing Svc's\\nLines: 21\\n\\n\\nIn article <kingoz.735285670@camelot>, kingoz@camelot.bradley.edu (Orin Roth) writes:\\n> \\n>    CUB fever is hitting me again. I'm beginning to think they have a \\n>    chance this year. (what the heck am i thinking?)\\n>    Sorry. Just a moment of incompetence.\\n>    I'll be ok. Really. \\n>    Orin.\\n>    Bradley U.\\n> \\n> --\\n> I'm really a jester in disguise!                                   \\nI hear ya!  Then again, we must remember that we are indeed Cub fans, and\\nthat the Cubs will eventually blow it.  After all, the Cubs are the easiest\\nteam in the National League to root for.  No Pressure.  You know they will\\nlose eventually.  Oh well, I suppose we must have faith.  After all, they\\ndo look pretty good, and they don't even have Sandberg back yet.  \\n\\nCUBS IN '93!!!!!\\n\\nCHA\\n\""
      ]
     },
     "execution_count": 5,
     "metadata": {},
     "output_type": "execute_result"
    }
   ],
   "source": [
    "#Before\n",
    "corpus[0]"
   ]
  },
  {
   "cell_type": "code",
   "execution_count": 6,
   "metadata": {
    "collapsed": true
   },
   "outputs": [],
   "source": [
    "vectorizer = TfidfVectorizer(stop_words=stopset,\n",
    "                                 use_idf=True, ngram_range=(1, 3))\n",
    "X = vectorizer.fit_transform(corpus)"
   ]
  },
  {
   "cell_type": "code",
   "execution_count": 7,
   "metadata": {
    "collapsed": false
   },
   "outputs": [
    {
     "data": {
      "text/plain": [
       "<1x188572 sparse matrix of type '<type 'numpy.float64'>'\n",
       "\twith 232 stored elements in Compressed Sparse Row format>"
      ]
     },
     "execution_count": 7,
     "metadata": {},
     "output_type": "execute_result"
    }
   ],
   "source": [
    "X[0]"
   ]
  },
  {
   "cell_type": "code",
   "execution_count": 8,
   "metadata": {
    "collapsed": false
   },
   "outputs": [
    {
     "name": "stdout",
     "output_type": "stream",
     "text": [
      "  (0, 49958)\t0.0735747611796\n",
      "  (0, 187837)\t0.0735747611796\n",
      "  (0, 28179)\t0.0735747611796\n",
      "  (0, 144859)\t0.0735747611796\n",
      "  (0, 63018)\t0.0735747611796\n",
      "  (0, 76563)\t0.0735747611796\n",
      "  (0, 132110)\t0.0735747611796\n",
      "  (0, 102253)\t0.0735747611796\n",
      "  (0, 65405)\t0.0735747611796\n",
      "  (0, 113419)\t0.0735747611796\n",
      "  (0, 161728)\t0.0735747611796\n",
      "  (0, 179483)\t0.0735747611796\n",
      "  (0, 118555)\t0.0735747611796\n",
      "  (0, 63154)\t0.0735747611796\n",
      "  (0, 102747)\t0.0735747611796\n",
      "  (0, 94316)\t0.0735747611796\n",
      "  (0, 132025)\t0.0735747611796\n",
      "  (0, 142013)\t0.0735747611796\n",
      "  (0, 96932)\t0.0735747611796\n",
      "  (0, 114060)\t0.0735747611796\n",
      "  (0, 164100)\t0.0735747611796\n",
      "  (0, 58217)\t0.0735747611796\n",
      "  (0, 49998)\t0.0735747611796\n",
      "  (0, 34964)\t0.0735747611796\n",
      "  (0, 63144)\t0.0735747611796\n",
      "  :\t:\n",
      "  (0, 184396)\t0.0155731686153\n",
      "  (0, 142249)\t0.0552896474024\n",
      "  (0, 121223)\t0.110579294805\n",
      "  (0, 36761)\t0.0991574063989\n",
      "  (0, 39756)\t0.104707636787\n",
      "  (0, 15720)\t0.0735747611796\n",
      "  (0, 93696)\t0.110579294805\n",
      "  (0, 24989)\t0.0161075899983\n",
      "  (0, 99618)\t0.0102668409887\n",
      "  (0, 162317)\t0.0607901693813\n",
      "  (0, 46703)\t0.0388651463176\n",
      "  (0, 173776)\t0.0392111155954\n",
      "  (0, 113217)\t0.0607901693813\n",
      "  (0, 173811)\t0.0179682026906\n",
      "  (0, 157401)\t0.0372920207012\n",
      "  (0, 28701)\t0.0306653839646\n",
      "  (0, 120611)\t0.0102874991259\n",
      "  (0, 66952)\t0.124726589995\n",
      "  (0, 49882)\t0.161149565358\n",
      "  (0, 160234)\t0.0102051163067\n",
      "  (0, 58721)\t0.0237695577501\n",
      "  (0, 38003)\t0.0506000665344\n",
      "  (0, 38013)\t0.0506000665344\n",
      "  (0, 97959)\t0.0495787031995\n",
      "  (0, 185332)\t0.0735747611796\n"
     ]
    }
   ],
   "source": [
    "#After\n",
    "print X[0]"
   ]
  },
  {
   "cell_type": "code",
   "execution_count": 9,
   "metadata": {
    "collapsed": false
   },
   "outputs": [
    {
     "data": {
      "text/plain": [
       "(994, 188572)"
      ]
     },
     "execution_count": 9,
     "metadata": {},
     "output_type": "execute_result"
    }
   ],
   "source": [
    "X.shape"
   ]
  },
  {
   "cell_type": "code",
   "execution_count": 10,
   "metadata": {
    "collapsed": false
   },
   "outputs": [
    {
     "data": {
      "text/plain": [
       "TruncatedSVD(algorithm='randomized', n_components=27, n_iter=100,\n",
       "       random_state=None, tol=0.0)"
      ]
     },
     "execution_count": 10,
     "metadata": {},
     "output_type": "execute_result"
    }
   ],
   "source": [
    "lsa = TruncatedSVD(n_components=27, n_iter=100)\n",
    "lsa.fit(X)"
   ]
  },
  {
   "cell_type": "code",
   "execution_count": 11,
   "metadata": {
    "collapsed": false
   },
   "outputs": [
    {
     "data": {
      "text/plain": [
       "array([ 0.00052799,  0.00052799,  0.00052799, ...,  0.00110435,\n",
       "        0.00110435,  0.00110435])"
      ]
     },
     "execution_count": 11,
     "metadata": {},
     "output_type": "execute_result"
    }
   ],
   "source": [
    "lsa.components_[0]"
   ]
  },
  {
   "cell_type": "code",
   "execution_count": 12,
   "metadata": {
    "collapsed": false
   },
   "outputs": [
    {
     "name": "stdout",
     "output_type": "stream",
     "text": [
      "Concept 0:\n",
      "edu\n",
      "year\n",
      "writes\n",
      "team\n",
      "would\n",
      "game\n",
      "article\n",
      "baseball\n",
      "players\n",
      "games\n",
      " \n",
      "Concept 1:\n",
      "003 759\n",
      "runs\n",
      "0010 music\n",
      "organization\n",
      "pitching\n",
      "get\n",
      "think\n",
      "even\n",
      "20\n",
      "gant\n",
      " \n",
      "Concept 2:\n",
      "edu\n",
      "lines\n",
      "posting\n",
      "go\n",
      "subject\n",
      "think\n",
      "game\n",
      "host\n",
      "would\n",
      "like\n",
      " \n",
      "Concept 3:\n",
      "team\n",
      "host\n",
      "edu\n",
      "posting\n",
      "many\n",
      "university\n",
      "nntp posting\n",
      "nntp\n",
      "nntp posting host\n",
      "posting host\n",
      " \n",
      "Concept 4:\n",
      "games\n",
      "season\n",
      "baseball\n",
      "better\n",
      "make\n",
      "win\n",
      "game\n",
      "dave\n",
      "red\n",
      "world\n",
      " \n",
      "Concept 5:\n",
      "team\n",
      "003\n",
      "host\n",
      "roger\n",
      "0023 lafibm lafayette\n",
      "first\n",
      "back\n",
      "time\n",
      "runs\n",
      "two\n",
      " \n",
      "Concept 6:\n",
      "game\n",
      "two\n",
      "maybe\n",
      "nntp posting host\n",
      "posting host\n",
      "better\n",
      "see\n",
      "organization\n",
      "posting\n",
      "well\n",
      " \n",
      "Concept 7:\n",
      "one\n",
      "know\n",
      "braves\n",
      "0023 lafibm\n",
      "would\n",
      "pitcher\n",
      "first\n",
      "anyone\n",
      "still\n",
      "maybe\n",
      " \n",
      "Concept 8:\n",
      "much\n",
      "team\n",
      "ll\n",
      "win\n",
      "say\n",
      "go\n",
      "one\n",
      "organization university\n",
      "fan\n",
      "better\n",
      " \n",
      "Concept 9:\n",
      "good\n",
      "braves\n",
      "david\n",
      "think\n",
      "years\n",
      "morris\n",
      "could\n",
      "see\n",
      "average\n",
      "something\n",
      " \n",
      "Concept 10:\n",
      "team\n",
      "game\n",
      "like\n",
      "two\n",
      "time\n",
      "best\n",
      "good\n",
      "edu organization\n",
      "last\n",
      "cornell\n",
      " \n",
      "Concept 11:\n",
      "better\n",
      "lines\n",
      "season\n",
      "see\n",
      "two\n",
      "writes\n",
      "roger\n",
      "0010 music\n",
      "morris\n",
      "scott\n",
      " \n",
      "Concept 12:\n",
      "players\n",
      "two\n",
      "lines\n",
      "0000ahc udcps3 cps\n",
      "home\n",
      "0010\n",
      "host\n",
      "hitter\n",
      "university\n",
      "run\n",
      " \n",
      "Concept 13:\n",
      "one\n",
      "organization\n",
      "article\n",
      "0010 music\n",
      "last\n",
      "home\n",
      "ll\n",
      "might\n",
      "didn\n",
      "let\n",
      " \n",
      "Concept 14:\n",
      "first\n",
      "university\n",
      "last\n",
      "hit\n",
      "game\n",
      "much\n",
      "princeton\n",
      "way\n",
      "defensive\n",
      "roger\n",
      " \n",
      "Concept 15:\n",
      "year\n",
      "hit\n",
      "game\n",
      "pitching\n",
      "win\n",
      "really\n",
      "little\n",
      "years\n",
      "posting\n",
      "like\n",
      " \n",
      "Concept 16:\n",
      "writes\n",
      "games\n",
      "university\n",
      "john\n",
      "003\n",
      "003 759 lankford\n",
      "think\n",
      "look\n",
      "edu\n",
      "won\n",
      " \n",
      "Concept 17:\n",
      "baseball\n",
      "even\n",
      "games\n",
      "win\n",
      "article\n",
      "many\n",
      "0023 lafibm lafayette\n",
      "two\n",
      "said\n",
      "year\n",
      " \n",
      "Concept 18:\n",
      "players\n",
      "baseball\n",
      "would\n",
      "university\n",
      "think\n",
      "well\n",
      "better\n",
      "time\n",
      "get\n",
      "organization\n",
      " \n",
      "Concept 19:\n",
      "year\n",
      "know\n",
      "players\n",
      "writes\n",
      "organization\n",
      "like\n",
      "good\n",
      "one\n",
      "first\n",
      "play\n",
      " \n",
      "Concept 20:\n",
      "0023 lafibm lafayette\n",
      "year\n",
      "think\n",
      "last\n",
      "like\n",
      "team\n",
      "lines\n",
      "writes\n",
      "pitching\n",
      "ball\n",
      " \n",
      "Concept 21:\n",
      "baseball\n",
      "year\n",
      "know\n",
      "say\n",
      "like\n",
      "well\n",
      "time\n",
      "stats\n",
      "really\n",
      "posting\n",
      " \n",
      "Concept 22:\n",
      "writes\n",
      "game\n",
      "lines\n",
      "0010 music\n",
      "article\n",
      "0023 lafibm\n",
      "time\n",
      "good\n",
      "0023\n",
      "might\n",
      " \n",
      "Concept 23:\n",
      "lines\n",
      "subject\n",
      "baseball\n",
      "good\n",
      "0010 music\n",
      "003\n",
      "last\n",
      "ball\n",
      "003 759 lankford\n",
      "go\n",
      " \n",
      "Concept 24:\n",
      "003 759\n",
      "0023 lafibm lafayette\n",
      "organization\n",
      "games\n",
      "003 759 lankford\n",
      "0010 music lib\n",
      "like\n",
      "edu\n",
      "0010 music\n",
      "lines\n",
      " \n",
      "Concept 25:\n",
      "organization\n",
      "subject\n",
      "0010\n",
      "writes\n",
      "lines\n",
      "university\n",
      "host\n",
      "year\n",
      "last\n",
      "distribution\n",
      " \n",
      "Concept 26:\n",
      "lines\n",
      "would\n",
      "university\n",
      "nntp\n",
      "nntp posting\n",
      "games\n",
      "host\n",
      "0023 lafibm lafayette\n",
      "nntp posting host\n",
      "posting host\n",
      " \n"
     ]
    }
   ],
   "source": [
    "terms = vectorizer.get_feature_names()\n",
    "for i, comp in enumerate(lsa.components_): \n",
    "    termsInComp = zip (terms,comp)\n",
    "    sortedTerms =  sorted(termsInComp, key=lambda x: x[1], reverse=True) [:10]\n",
    "    print \"Concept %d:\" % i\n",
    "    for term in sortedTerms:\n",
    "        print term[0]\n",
    "    print \" \""
   ]
  },
  {
   "cell_type": "code",
   "execution_count": null,
   "metadata": {
    "collapsed": true
   },
   "outputs": [],
   "source": []
  }
 ],
 "metadata": {
  "kernelspec": {
   "display_name": "Python 2",
   "language": "python",
   "name": "python2"
  },
  "language_info": {
   "codemirror_mode": {
    "name": "ipython",
    "version": 2
   },
   "file_extension": ".py",
   "mimetype": "text/x-python",
   "name": "python",
   "nbconvert_exporter": "python",
   "pygments_lexer": "ipython2",
   "version": "2.7.10"
  }
 },
 "nbformat": 4,
 "nbformat_minor": 0
}
