{
 "cells": [
  {
   "cell_type": "code",
   "execution_count": 1,
   "metadata": {
    "collapsed": true
   },
   "outputs": [],
   "source": [
    "from sklearn.datasets import fetch_20newsgroups\n",
    "categories = ['rec.sport.baseball']\n",
    "dataset = fetch_20newsgroups(subset='all',shuffle=True, random_state=42, categories=categories)\n",
    "corpus = dataset.data"
   ]
  },
  {
   "cell_type": "code",
   "execution_count": 2,
   "metadata": {
    "collapsed": true
   },
   "outputs": [],
   "source": [
    "from bs4 import BeautifulSoup\n",
    "import nltk\n",
    "from nltk.corpus import stopwords\n",
    "from sklearn.feature_extraction.text import TfidfVectorizer\n",
    "from sklearn.decomposition import TruncatedSVD"
   ]
  },
  {
   "cell_type": "code",
   "execution_count": 3,
   "metadata": {
    "collapsed": false
   },
   "outputs": [
    {
     "name": "stdout",
     "output_type": "stream",
     "text": [
      "[nltk_data] Downloading package stopwords to\n",
      "[nltk_data]     C:\\Users\\sreeja\\AppData\\Roaming\\nltk_data...\n",
      "[nltk_data]   Unzipping corpora\\stopwords.zip.\n"
     ]
    },
    {
     "data": {
      "text/plain": [
       "True"
      ]
     },
     "execution_count": 3,
     "metadata": {},
     "output_type": "execute_result"
    }
   ],
   "source": [
    "nltk.download('stopwords')"
   ]
  },
  {
   "cell_type": "code",
   "execution_count": 4,
   "metadata": {
    "collapsed": true
   },
   "outputs": [],
   "source": [
    "stopset = set(stopwords.words('english'))\n",
    "stopset.update(['lt','p','/p','br','amp','quot','field','font','normal','span','0px','rgb','style','51', \n",
    "                'spacing','text','helvetica','size','family', 'space', 'arial', 'height', 'indent', 'letter'\n",
    "                'line','none','sans','serif','transform','line','variant','weight','times', 'new','strong', 'video', 'title'\n",
    "                'white','word','letter', 'roman','0pt','16','color','12','14','21', 'neue', 'apple', 'class','re', 'cs', '00 00', 'com', '00 00 000', 'aix', '00 00 00', '00', 'ca', '00 00 01', 've', '000', '000 000', '000 000 000','001', '100', '10', '01', '000th', '001211 18457', '001211', '18457', '002 755', '002', '755', '002251w', '002'   ])"
   ]
  },
  {
   "cell_type": "code",
   "execution_count": 5,
   "metadata": {
    "collapsed": false
   },
   "outputs": [
    {
     "data": {
      "text/plain": [
       "u\"From: writingctr@leo.bsuvc.bsu.edu\\nSubject: Re: CUB fever.\\nOrganization: Ball State University, Muncie, In - Univ. Computing Svc's\\nLines: 21\\n\\n\\nIn article <kingoz.735285670@camelot>, kingoz@camelot.bradley.edu (Orin Roth) writes:\\n> \\n>    CUB fever is hitting me again. I'm beginning to think they have a \\n>    chance this year. (what the heck am i thinking?)\\n>    Sorry. Just a moment of incompetence.\\n>    I'll be ok. Really. \\n>    Orin.\\n>    Bradley U.\\n> \\n> --\\n> I'm really a jester in disguise!                                   \\nI hear ya!  Then again, we must remember that we are indeed Cub fans, and\\nthat the Cubs will eventually blow it.  After all, the Cubs are the easiest\\nteam in the National League to root for.  No Pressure.  You know they will\\nlose eventually.  Oh well, I suppose we must have faith.  After all, they\\ndo look pretty good, and they don't even have Sandberg back yet.  \\n\\nCUBS IN '93!!!!!\\n\\nCHA\\n\""
      ]
     },
     "execution_count": 5,
     "metadata": {},
     "output_type": "execute_result"
    }
   ],
   "source": [
    "#Before\n",
    "corpus[0]"
   ]
  },
  {
   "cell_type": "code",
   "execution_count": 6,
   "metadata": {
    "collapsed": true
   },
   "outputs": [],
   "source": [
    "vectorizer = TfidfVectorizer(stop_words=stopset,\n",
    "                                 use_idf=True, ngram_range=(1, 3))\n",
    "X = vectorizer.fit_transform(corpus)"
   ]
  },
  {
   "cell_type": "code",
   "execution_count": 7,
   "metadata": {
    "collapsed": false
   },
   "outputs": [
    {
     "data": {
      "text/plain": [
       "<1x188572 sparse matrix of type '<type 'numpy.float64'>'\n",
       "\twith 232 stored elements in Compressed Sparse Row format>"
      ]
     },
     "execution_count": 7,
     "metadata": {},
     "output_type": "execute_result"
    }
   ],
   "source": [
    "X[0]"
   ]
  },
  {
   "cell_type": "code",
   "execution_count": 8,
   "metadata": {
    "collapsed": false
   },
   "outputs": [
    {
     "name": "stdout",
     "output_type": "stream",
     "text": [
      "  (0, 49958)\t0.0735747611796\n",
      "  (0, 187837)\t0.0735747611796\n",
      "  (0, 28179)\t0.0735747611796\n",
      "  (0, 144859)\t0.0735747611796\n",
      "  (0, 63018)\t0.0735747611796\n",
      "  (0, 76563)\t0.0735747611796\n",
      "  (0, 132110)\t0.0735747611796\n",
      "  (0, 102253)\t0.0735747611796\n",
      "  (0, 65405)\t0.0735747611796\n",
      "  (0, 113419)\t0.0735747611796\n",
      "  (0, 161728)\t0.0735747611796\n",
      "  (0, 179483)\t0.0735747611796\n",
      "  (0, 118555)\t0.0735747611796\n",
      "  (0, 63154)\t0.0735747611796\n",
      "  (0, 102747)\t0.0735747611796\n",
      "  (0, 94316)\t0.0735747611796\n",
      "  (0, 132025)\t0.0735747611796\n",
      "  (0, 142013)\t0.0735747611796\n",
      "  (0, 96932)\t0.0735747611796\n",
      "  (0, 114060)\t0.0735747611796\n",
      "  (0, 164100)\t0.0735747611796\n",
      "  (0, 58217)\t0.0735747611796\n",
      "  (0, 49998)\t0.0735747611796\n",
      "  (0, 34964)\t0.0735747611796\n",
      "  (0, 63144)\t0.0735747611796\n",
      "  :\t:\n",
      "  (0, 184396)\t0.0155731686153\n",
      "  (0, 142249)\t0.0552896474024\n",
      "  (0, 121223)\t0.110579294805\n",
      "  (0, 36761)\t0.0991574063989\n",
      "  (0, 39756)\t0.104707636787\n",
      "  (0, 15720)\t0.0735747611796\n",
      "  (0, 93696)\t0.110579294805\n",
      "  (0, 24989)\t0.0161075899983\n",
      "  (0, 99618)\t0.0102668409887\n",
      "  (0, 162317)\t0.0607901693813\n",
      "  (0, 46703)\t0.0388651463176\n",
      "  (0, 173776)\t0.0392111155954\n",
      "  (0, 113217)\t0.0607901693813\n",
      "  (0, 173811)\t0.0179682026906\n",
      "  (0, 157401)\t0.0372920207012\n",
      "  (0, 28701)\t0.0306653839646\n",
      "  (0, 120611)\t0.0102874991259\n",
      "  (0, 66952)\t0.124726589995\n",
      "  (0, 49882)\t0.161149565358\n",
      "  (0, 160234)\t0.0102051163067\n",
      "  (0, 58721)\t0.0237695577501\n",
      "  (0, 38003)\t0.0506000665344\n",
      "  (0, 38013)\t0.0506000665344\n",
      "  (0, 97959)\t0.0495787031995\n",
      "  (0, 185332)\t0.0735747611796\n"
     ]
    }
   ],
   "source": [
    "#After\n",
    "print X[0]"
   ]
  },
  {
   "cell_type": "code",
   "execution_count": 9,
   "metadata": {
    "collapsed": false
   },
   "outputs": [
    {
     "data": {
      "text/plain": [
       "(994, 188572)"
      ]
     },
     "execution_count": 9,
     "metadata": {},
     "output_type": "execute_result"
    }
   ],
   "source": [
    "X.shape"
   ]
  },
  {
   "cell_type": "code",
   "execution_count": 10,
   "metadata": {
    "collapsed": false
   },
   "outputs": [
    {
     "data": {
      "text/plain": [
       "TruncatedSVD(algorithm='randomized', n_components=27, n_iter=100,\n",
       "       random_state=None, tol=0.0)"
      ]
     },
     "execution_count": 10,
     "metadata": {},
     "output_type": "execute_result"
    }
   ],
   "source": [
    "lsa = TruncatedSVD(n_components=27, n_iter=100)\n",
    "lsa.fit(X)"
   ]
  },
  {
   "cell_type": "code",
   "execution_count": null,
   "metadata": {
    "collapsed": true
   },
   "outputs": [],
   "source": []
  }
 ],
 "metadata": {
  "kernelspec": {
   "display_name": "Python 2",
   "language": "python",
   "name": "python2"
  },
  "language_info": {
   "codemirror_mode": {
    "name": "ipython",
    "version": 2
   },
   "file_extension": ".py",
   "mimetype": "text/x-python",
   "name": "python",
   "nbconvert_exporter": "python",
   "pygments_lexer": "ipython2",
   "version": "2.7.10"
  }
 },
 "nbformat": 4,
 "nbformat_minor": 0
}
